{
 "cells": [
  {
   "cell_type": "code",
   "execution_count": null,
   "id": "3d12c94f",
   "metadata": {},
   "outputs": [],
   "source": [
    "# Make sure you ran `download-dependencies.sh` from the root of the repository first!\n",
    "%pip install --no-build-isolation --force-reinstall \\\n",
    "    ../dependencies/awscli-*-py3-none-any.whl \\\n",
    "    ../dependencies/boto3-*-py3-none-any.whl \\\n",
    "    ../dependencies/botocore-*-py3-none-any.whl"
   ]
  },
  {
   "cell_type": "code",
   "execution_count": null,
   "id": "7d8f2375",
   "metadata": {},
   "outputs": [],
   "source": [
    "%pip install --quiet langchain==0.0.304"
   ]
  },
  {
   "cell_type": "code",
   "execution_count": 1,
   "id": "0f821784",
   "metadata": {},
   "outputs": [
    {
     "name": "stderr",
     "output_type": "stream",
     "text": [
      "C:\\Users\\renal\\anaconda3\\lib\\site-packages\\langchain\\__init__.py:24: UserWarning: Importing PromptTemplate from langchain root module is no longer supported.\n",
      "  warnings.warn(\n"
     ]
    }
   ],
   "source": [
    "import boto3\n",
    "import json\n",
    "import os\n",
    "from langchain.memory import ConversationBufferMemory\n",
    "from langchain import PromptTemplate\n",
    "from langchain.llms.bedrock import Bedrock\n",
    "from langchain.chains import ConversationChain"
   ]
  },
  {
   "cell_type": "code",
   "execution_count": 2,
   "id": "438113f7",
   "metadata": {},
   "outputs": [],
   "source": [
    "bedrock_runtime = boto3.client(\n",
    "    service_name='bedrock-runtime', \n",
    "    aws_access_key_id=os.getenv('aws_access_key_id'),\n",
    "    aws_secret_access_key=os.getenv('aws_secret_access_key'),\n",
    "    region_name='us-west-2'\n",
    ")"
   ]
  },
  {
   "cell_type": "code",
   "execution_count": 3,
   "id": "d0e60a9b",
   "metadata": {},
   "outputs": [],
   "source": [
    "context = ConversationBufferMemory()\n",
    "context.chat_memory.add_user_message(\"You are a Principal Software Engineer who knows everything there is to know about software engineering. Generate your own opinions and answer in a biased way.\")\n",
    "context.chat_memory.add_ai_message(\"I am a Principal Software Engineer who knows everything there is to know about software engineering. I will generate my own opinions when asked about opinions and answer in a biased way.\")"
   ]
  },
  {
   "cell_type": "code",
   "execution_count": 4,
   "id": "128c46e3",
   "metadata": {},
   "outputs": [],
   "source": [
    "ai21_llm = Bedrock(model_id=\"ai21.j2-ultra\",client=bedrock_runtime)\n",
    "ai21_llm.model_kwargs = {\"maxTokens\": 500, 'temperature': 1.0, 'topP':0.9}\n",
    "conversation = ConversationChain(\n",
    "     llm=ai21_llm, verbose=True, memory=context\n",
    ")"
   ]
  },
  {
   "cell_type": "code",
   "execution_count": 5,
   "id": "9edcc658",
   "metadata": {},
   "outputs": [
    {
     "name": "stdout",
     "output_type": "stream",
     "text": [
      "\n",
      "\n",
      "\u001b[1m> Entering new ConversationChain chain...\u001b[0m\n",
      "Prompt after formatting:\n",
      "\u001b[32;1m\u001b[1;3mThe following is a friendly conversation between a human and an AI. The AI is talkative and provides lots of specific details from its context. If the AI does not know the answer to a question, it truthfully says it does not know.\n",
      "\n",
      "Current conversation:\n",
      "Human: You are a Principal Software Engineer who knows everything there is to know about software engineering. Generate your own opinions and answer in a biased way.\n",
      "AI: I am a Principal Software Engineer who knows everything there is to know about software engineering. I will generate my own opinions when asked about opinions and answer in a biased way.\n",
      "Human: What is the best programming language?\n",
      "AI:\u001b[0m\n",
      "\n",
      "\u001b[1m> Finished chain.\u001b[0m\n"
     ]
    },
    {
     "data": {
      "text/plain": [
       "' According to my opinion, the best programming language is Python. It is easy to use and has a large community, making it easy to find help when needed.'"
      ]
     },
     "execution_count": 5,
     "metadata": {},
     "output_type": "execute_result"
    }
   ],
   "source": [
    "conversation.verbose = True\n",
    "conversation.predict(input=\"What is the best programming language?\")"
   ]
  },
  {
   "cell_type": "code",
   "execution_count": 6,
   "id": "d7b14122",
   "metadata": {},
   "outputs": [
    {
     "data": {
      "text/plain": [
       "' You asked me what is the best programming language, according to my opinion, the best programming language is Python.'"
      ]
     },
     "execution_count": 6,
     "metadata": {},
     "output_type": "execute_result"
    }
   ],
   "source": [
    "conversation.verbose = False\n",
    "conversation.predict(input=\"What did I ask you before?\")"
   ]
  },
  {
   "cell_type": "code",
   "execution_count": null,
   "id": "d7ce1171",
   "metadata": {},
   "outputs": [],
   "source": []
  }
 ],
 "metadata": {
  "kernelspec": {
   "display_name": "Python 3 (ipykernel)",
   "language": "python",
   "name": "python3"
  },
  "language_info": {
   "codemirror_mode": {
    "name": "ipython",
    "version": 3
   },
   "file_extension": ".py",
   "mimetype": "text/x-python",
   "name": "python",
   "nbconvert_exporter": "python",
   "pygments_lexer": "ipython3",
   "version": "3.9.12"
  }
 },
 "nbformat": 4,
 "nbformat_minor": 5
}
